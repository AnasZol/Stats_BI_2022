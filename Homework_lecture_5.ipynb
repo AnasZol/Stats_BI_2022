{
  "nbformat": 4,
  "nbformat_minor": 0,
  "metadata": {
    "colab": {
      "provenance": [],
      "collapsed_sections": [],
      "include_colab_link": true
    },
    "kernelspec": {
      "name": "python3",
      "display_name": "Python 3"
    },
    "language_info": {
      "name": "python"
    }
  },
  "cells": [
    {
      "cell_type": "markdown",
      "metadata": {
        "id": "view-in-github",
        "colab_type": "text"
      },
      "source": [
        "<a href=\"https://colab.research.google.com/github/AnasZol/Stats_BI_2022/blob/Homework_1/%D0%9A%D0%BE%D0%BF%D0%B8%D1%8F_%D0%B1%D0%BB%D0%BE%D0%BA%D0%BD%D0%BE%D1%82%D0%B0_%22homework_lecture_5_ipynb%22.ipynb\" target=\"_parent\"><img src=\"https://colab.research.google.com/assets/colab-badge.svg\" alt=\"Open In Colab\"/></a>"
      ]
    },
    {
      "cell_type": "markdown",
      "source": [
        "Всем привет! Пришло время нашей первой домашней работы не на степике. Надеюсь, будет весело :)\n",
        "\n",
        "Так как, `pandas` вы еще не проходили, то я вам немного помогу. Эту домашку можно делать как в питоне, так и в R, само задание будет написано в `Google Colaboratory`."
      ],
      "metadata": {
        "id": "_d7wDz2eSo0i"
      }
    },
    {
      "cell_type": "code",
      "execution_count": null,
      "metadata": {
        "id": "OLE-TC4eN1HP"
      },
      "outputs": [],
      "source": [
        "# Pandas понадобится нам для чтения денных\n",
        "import pandas as pd\n",
        "import seaborn as sns\n",
        "import matplotlib.pyplot as plt\n",
        "import numpy as np"
      ]
    },
    {
      "cell_type": "code",
      "source": [
        "from google.colab import drive\n",
        "drive.mount('/content/drive')"
      ],
      "metadata": {
        "id": "cXE9p9He2WSf",
        "outputId": "7b475d79-6626-40a8-8a93-253432fb1251",
        "colab": {
          "base_uri": "https://localhost:8080/"
        }
      },
      "execution_count": null,
      "outputs": [
        {
          "output_type": "stream",
          "name": "stdout",
          "text": [
            "Mounted at /content/drive\n"
          ]
        }
      ]
    },
    {
      "cell_type": "code",
      "source": [
        "# В переменную data_path надо положить путь до данных\n",
        "data_path = \"/content/drive/MyDrive/Colab Notebooks\"\n",
        "expression_data = pd.read_csv(f\"{data_path}/homework_lecture_5_data.csv\", index_col=0)\n",
        "expression_data.head()"
      ],
      "metadata": {
        "colab": {
          "base_uri": "https://localhost:8080/",
          "height": 248
        },
        "id": "OQxt1TdvN_mT",
        "outputId": "98edb0ca-9738-43e0-fb29-42c477ef27e2"
      },
      "execution_count": null,
      "outputs": [
        {
          "output_type": "execute_result",
          "data": {
            "text/plain": [
              "       TMCC1     RANBP3    GABRG3    ARRDC5       LRP3      TIMM23      TBPL1  \\\n",
              "0  33.888550  38.384340  0.044721  1.385159  11.341853  105.193306  26.463990   \n",
              "1  16.497124  35.054090  0.314645  4.329797   8.649321   50.577618  16.684614   \n",
              "2   5.449933  31.783958  0.002949  2.137536   1.750892  109.201050  35.265984   \n",
              "3  33.362240  56.147026  0.037295  1.604904   6.807299  100.141620  25.446817   \n",
              "4  50.188510  30.165264  0.039678  1.501439   1.619954   46.916790  28.053373   \n",
              "\n",
              "      BIRC8     TTC28   C19orf66  ...     MAGEA6       IL4I1     LCN12  \\\n",
              "0  0.000000  1.537873  27.645407  ...  21.332443    1.397932  0.000000   \n",
              "1  0.000000  1.796609  13.715611  ...   1.199440  159.147130  0.259244   \n",
              "2  0.011501  0.878889  19.361662  ...   0.002924   25.256378  0.000000   \n",
              "3  0.000000  2.502661  12.745437  ...   0.000000   14.509516  0.063003   \n",
              "4  0.018181  1.165164  30.318027  ...   0.033807   93.681190  0.031816   \n",
              "\n",
              "        SMG6  C1orf100      WDR75    ZBTB26    SPTY2D1    PLEKHA2  Cell_type  \n",
              "0  23.136585  0.001902  60.218548  6.307399   9.577274  44.026940     B_cell  \n",
              "1  18.986986  0.310971  25.818224  4.193348  14.181196  35.779896     B_cell  \n",
              "2  32.941895  0.000000  99.555990  8.323141  29.321960  30.816538     B_cell  \n",
              "3  19.036896  0.000000  49.394980  4.655794  17.683067  47.143270     B_cell  \n",
              "4  19.094831  0.000000  20.201437  6.935232  20.769829  53.935143     B_cell  \n",
              "\n",
              "[5 rows x 18793 columns]"
            ],
            "text/html": [
              "\n",
              "  <div id=\"df-23ca4a73-cd91-4545-9edc-4f2c0cecb8b8\">\n",
              "    <div class=\"colab-df-container\">\n",
              "      <div>\n",
              "<style scoped>\n",
              "    .dataframe tbody tr th:only-of-type {\n",
              "        vertical-align: middle;\n",
              "    }\n",
              "\n",
              "    .dataframe tbody tr th {\n",
              "        vertical-align: top;\n",
              "    }\n",
              "\n",
              "    .dataframe thead th {\n",
              "        text-align: right;\n",
              "    }\n",
              "</style>\n",
              "<table border=\"1\" class=\"dataframe\">\n",
              "  <thead>\n",
              "    <tr style=\"text-align: right;\">\n",
              "      <th></th>\n",
              "      <th>TMCC1</th>\n",
              "      <th>RANBP3</th>\n",
              "      <th>GABRG3</th>\n",
              "      <th>ARRDC5</th>\n",
              "      <th>LRP3</th>\n",
              "      <th>TIMM23</th>\n",
              "      <th>TBPL1</th>\n",
              "      <th>BIRC8</th>\n",
              "      <th>TTC28</th>\n",
              "      <th>C19orf66</th>\n",
              "      <th>...</th>\n",
              "      <th>MAGEA6</th>\n",
              "      <th>IL4I1</th>\n",
              "      <th>LCN12</th>\n",
              "      <th>SMG6</th>\n",
              "      <th>C1orf100</th>\n",
              "      <th>WDR75</th>\n",
              "      <th>ZBTB26</th>\n",
              "      <th>SPTY2D1</th>\n",
              "      <th>PLEKHA2</th>\n",
              "      <th>Cell_type</th>\n",
              "    </tr>\n",
              "  </thead>\n",
              "  <tbody>\n",
              "    <tr>\n",
              "      <th>0</th>\n",
              "      <td>33.888550</td>\n",
              "      <td>38.384340</td>\n",
              "      <td>0.044721</td>\n",
              "      <td>1.385159</td>\n",
              "      <td>11.341853</td>\n",
              "      <td>105.193306</td>\n",
              "      <td>26.463990</td>\n",
              "      <td>0.000000</td>\n",
              "      <td>1.537873</td>\n",
              "      <td>27.645407</td>\n",
              "      <td>...</td>\n",
              "      <td>21.332443</td>\n",
              "      <td>1.397932</td>\n",
              "      <td>0.000000</td>\n",
              "      <td>23.136585</td>\n",
              "      <td>0.001902</td>\n",
              "      <td>60.218548</td>\n",
              "      <td>6.307399</td>\n",
              "      <td>9.577274</td>\n",
              "      <td>44.026940</td>\n",
              "      <td>B_cell</td>\n",
              "    </tr>\n",
              "    <tr>\n",
              "      <th>1</th>\n",
              "      <td>16.497124</td>\n",
              "      <td>35.054090</td>\n",
              "      <td>0.314645</td>\n",
              "      <td>4.329797</td>\n",
              "      <td>8.649321</td>\n",
              "      <td>50.577618</td>\n",
              "      <td>16.684614</td>\n",
              "      <td>0.000000</td>\n",
              "      <td>1.796609</td>\n",
              "      <td>13.715611</td>\n",
              "      <td>...</td>\n",
              "      <td>1.199440</td>\n",
              "      <td>159.147130</td>\n",
              "      <td>0.259244</td>\n",
              "      <td>18.986986</td>\n",
              "      <td>0.310971</td>\n",
              "      <td>25.818224</td>\n",
              "      <td>4.193348</td>\n",
              "      <td>14.181196</td>\n",
              "      <td>35.779896</td>\n",
              "      <td>B_cell</td>\n",
              "    </tr>\n",
              "    <tr>\n",
              "      <th>2</th>\n",
              "      <td>5.449933</td>\n",
              "      <td>31.783958</td>\n",
              "      <td>0.002949</td>\n",
              "      <td>2.137536</td>\n",
              "      <td>1.750892</td>\n",
              "      <td>109.201050</td>\n",
              "      <td>35.265984</td>\n",
              "      <td>0.011501</td>\n",
              "      <td>0.878889</td>\n",
              "      <td>19.361662</td>\n",
              "      <td>...</td>\n",
              "      <td>0.002924</td>\n",
              "      <td>25.256378</td>\n",
              "      <td>0.000000</td>\n",
              "      <td>32.941895</td>\n",
              "      <td>0.000000</td>\n",
              "      <td>99.555990</td>\n",
              "      <td>8.323141</td>\n",
              "      <td>29.321960</td>\n",
              "      <td>30.816538</td>\n",
              "      <td>B_cell</td>\n",
              "    </tr>\n",
              "    <tr>\n",
              "      <th>3</th>\n",
              "      <td>33.362240</td>\n",
              "      <td>56.147026</td>\n",
              "      <td>0.037295</td>\n",
              "      <td>1.604904</td>\n",
              "      <td>6.807299</td>\n",
              "      <td>100.141620</td>\n",
              "      <td>25.446817</td>\n",
              "      <td>0.000000</td>\n",
              "      <td>2.502661</td>\n",
              "      <td>12.745437</td>\n",
              "      <td>...</td>\n",
              "      <td>0.000000</td>\n",
              "      <td>14.509516</td>\n",
              "      <td>0.063003</td>\n",
              "      <td>19.036896</td>\n",
              "      <td>0.000000</td>\n",
              "      <td>49.394980</td>\n",
              "      <td>4.655794</td>\n",
              "      <td>17.683067</td>\n",
              "      <td>47.143270</td>\n",
              "      <td>B_cell</td>\n",
              "    </tr>\n",
              "    <tr>\n",
              "      <th>4</th>\n",
              "      <td>50.188510</td>\n",
              "      <td>30.165264</td>\n",
              "      <td>0.039678</td>\n",
              "      <td>1.501439</td>\n",
              "      <td>1.619954</td>\n",
              "      <td>46.916790</td>\n",
              "      <td>28.053373</td>\n",
              "      <td>0.018181</td>\n",
              "      <td>1.165164</td>\n",
              "      <td>30.318027</td>\n",
              "      <td>...</td>\n",
              "      <td>0.033807</td>\n",
              "      <td>93.681190</td>\n",
              "      <td>0.031816</td>\n",
              "      <td>19.094831</td>\n",
              "      <td>0.000000</td>\n",
              "      <td>20.201437</td>\n",
              "      <td>6.935232</td>\n",
              "      <td>20.769829</td>\n",
              "      <td>53.935143</td>\n",
              "      <td>B_cell</td>\n",
              "    </tr>\n",
              "  </tbody>\n",
              "</table>\n",
              "<p>5 rows × 18793 columns</p>\n",
              "</div>\n",
              "      <button class=\"colab-df-convert\" onclick=\"convertToInteractive('df-23ca4a73-cd91-4545-9edc-4f2c0cecb8b8')\"\n",
              "              title=\"Convert this dataframe to an interactive table.\"\n",
              "              style=\"display:none;\">\n",
              "        \n",
              "  <svg xmlns=\"http://www.w3.org/2000/svg\" height=\"24px\"viewBox=\"0 0 24 24\"\n",
              "       width=\"24px\">\n",
              "    <path d=\"M0 0h24v24H0V0z\" fill=\"none\"/>\n",
              "    <path d=\"M18.56 5.44l.94 2.06.94-2.06 2.06-.94-2.06-.94-.94-2.06-.94 2.06-2.06.94zm-11 1L8.5 8.5l.94-2.06 2.06-.94-2.06-.94L8.5 2.5l-.94 2.06-2.06.94zm10 10l.94 2.06.94-2.06 2.06-.94-2.06-.94-.94-2.06-.94 2.06-2.06.94z\"/><path d=\"M17.41 7.96l-1.37-1.37c-.4-.4-.92-.59-1.43-.59-.52 0-1.04.2-1.43.59L10.3 9.45l-7.72 7.72c-.78.78-.78 2.05 0 2.83L4 21.41c.39.39.9.59 1.41.59.51 0 1.02-.2 1.41-.59l7.78-7.78 2.81-2.81c.8-.78.8-2.07 0-2.86zM5.41 20L4 18.59l7.72-7.72 1.47 1.35L5.41 20z\"/>\n",
              "  </svg>\n",
              "      </button>\n",
              "      \n",
              "  <style>\n",
              "    .colab-df-container {\n",
              "      display:flex;\n",
              "      flex-wrap:wrap;\n",
              "      gap: 12px;\n",
              "    }\n",
              "\n",
              "    .colab-df-convert {\n",
              "      background-color: #E8F0FE;\n",
              "      border: none;\n",
              "      border-radius: 50%;\n",
              "      cursor: pointer;\n",
              "      display: none;\n",
              "      fill: #1967D2;\n",
              "      height: 32px;\n",
              "      padding: 0 0 0 0;\n",
              "      width: 32px;\n",
              "    }\n",
              "\n",
              "    .colab-df-convert:hover {\n",
              "      background-color: #E2EBFA;\n",
              "      box-shadow: 0px 1px 2px rgba(60, 64, 67, 0.3), 0px 1px 3px 1px rgba(60, 64, 67, 0.15);\n",
              "      fill: #174EA6;\n",
              "    }\n",
              "\n",
              "    [theme=dark] .colab-df-convert {\n",
              "      background-color: #3B4455;\n",
              "      fill: #D2E3FC;\n",
              "    }\n",
              "\n",
              "    [theme=dark] .colab-df-convert:hover {\n",
              "      background-color: #434B5C;\n",
              "      box-shadow: 0px 1px 3px 1px rgba(0, 0, 0, 0.15);\n",
              "      filter: drop-shadow(0px 1px 2px rgba(0, 0, 0, 0.3));\n",
              "      fill: #FFFFFF;\n",
              "    }\n",
              "  </style>\n",
              "\n",
              "      <script>\n",
              "        const buttonEl =\n",
              "          document.querySelector('#df-23ca4a73-cd91-4545-9edc-4f2c0cecb8b8 button.colab-df-convert');\n",
              "        buttonEl.style.display =\n",
              "          google.colab.kernel.accessAllowed ? 'block' : 'none';\n",
              "\n",
              "        async function convertToInteractive(key) {\n",
              "          const element = document.querySelector('#df-23ca4a73-cd91-4545-9edc-4f2c0cecb8b8');\n",
              "          const dataTable =\n",
              "            await google.colab.kernel.invokeFunction('convertToInteractive',\n",
              "                                                     [key], {});\n",
              "          if (!dataTable) return;\n",
              "\n",
              "          const docLinkHtml = 'Like what you see? Visit the ' +\n",
              "            '<a target=\"_blank\" href=https://colab.research.google.com/notebooks/data_table.ipynb>data table notebook</a>'\n",
              "            + ' to learn more about interactive tables.';\n",
              "          element.innerHTML = '';\n",
              "          dataTable['output_type'] = 'display_data';\n",
              "          await google.colab.output.renderOutput(dataTable, element);\n",
              "          const docLink = document.createElement('div');\n",
              "          docLink.innerHTML = docLinkHtml;\n",
              "          element.appendChild(docLink);\n",
              "        }\n",
              "      </script>\n",
              "    </div>\n",
              "  </div>\n",
              "  "
            ]
          },
          "metadata": {},
          "execution_count": 6
        },
        {
          "output_type": "stream",
          "name": "stdout",
          "text": [
            "Warning: Total number of columns (18793) exceeds max_columns (20) limiting to first (20) columns.\n"
          ]
        }
      ]
    },
    {
      "cell_type": "code",
      "source": [
        "b_cells_expression_data = expression_data.query(\"Cell_type == 'B_cell'\")\n",
        "nk_cells_expression_data = expression_data.query(\"Cell_type == 'NK_cell'\")"
      ],
      "metadata": {
        "id": "9k75ZGZyVBhu"
      },
      "execution_count": null,
      "outputs": []
    },
    {
      "cell_type": "markdown",
      "source": [
        "В этом задании мы будем работать с данными об экспрессии генов в друх клеточных типах: в B-клетках и в NK-клетках. Выясним, средняя экспрессия каких генов значимо различается в этих клеточных типах."
      ],
      "metadata": {
        "id": "OAUclhJ3UC2p"
      }
    },
    {
      "cell_type": "markdown",
      "source": [
        "Я буду показывать примеры на одном гене, а на основе них вы сможете сделать похожие задачи для всех генов."
      ],
      "metadata": {
        "id": "crW-TliUUuye"
      }
    },
    {
      "cell_type": "code",
      "source": [
        "example_gene = \"TMCC1\""
      ],
      "metadata": {
        "id": "1o1vmOSoQMRy"
      },
      "execution_count": null,
      "outputs": []
    },
    {
      "cell_type": "markdown",
      "source": [
        "## Задание 1\n",
        "\n",
        "**2 баллов**"
      ],
      "metadata": {
        "id": "gFSq8BCiUb_m"
      }
    },
    {
      "cell_type": "markdown",
      "source": [
        "Посмотрим на распределение экспрессий гена `TMCC1` в обоих клеточных типах."
      ],
      "metadata": {
        "id": "419ztR7lVm_E"
      }
    },
    {
      "cell_type": "code",
      "source": [
        "sns.histplot(b_cells_expression_data[example_gene], stat=\"density\");"
      ],
      "metadata": {
        "colab": {
          "base_uri": "https://localhost:8080/",
          "height": 279
        },
        "id": "0ln2fQG2QMen",
        "outputId": "143c4d66-9138-488e-ba96-6a6a17d6b952"
      },
      "execution_count": null,
      "outputs": [
        {
          "output_type": "display_data",
          "data": {
            "text/plain": [
              "<Figure size 432x288 with 1 Axes>"
            ],
            "image/png": "[encoded data removed]"
          },
          "metadata": {
            "needs_background": "light"
          }
        }
      ]
    },
    {
      "cell_type": "code",
      "source": [
        "sns.histplot(nk_cells_expression_data[example_gene], stat=\"density\");"
      ],
      "metadata": {
        "colab": {
          "base_uri": "https://localhost:8080/",
          "height": 281
        },
        "id": "pNdIdzpYQMpu",
        "outputId": "f76d46ca-54e6-4baf-861b-e7707f5b7b91"
      },
      "execution_count": null,
      "outputs": [
        {
          "output_type": "display_data",
          "data": {
            "text/plain": [
              "<Figure size 432x288 with 1 Axes>"
            ],
            "image/png": "[encoded data removed]"
          },
          "metadata": {
            "needs_background": "light"
          }
        }
      ]
    },
    {
      "cell_type": "markdown",
      "source": [
        "Кажется, что они немного различаются. Для начала давайте попробуем еще раз проверить центральную предельную теорему.\n",
        "\n",
        "**Задание:**\n",
        "\n",
        "Напишите функцию, которая будет принимать на вход экспрессии гена, семплировать их них выборки размера `sample_size`, считать среднюю экспрессию и повторять это `n_samples` раз. Примените эту функцию к экспрессиям гена `TMCC1` в обоих клеточных типах, визуализируйте их. Отличаются ли средние экспрессии данного гена у этих клеточных типов?\n",
        " \n",
        "Сигнатура функции:\n",
        "\n",
        "```python\n",
        "def demonstrate_clt(expressions, sample_size, n_samples):\n",
        "    mean_expressions = []\n",
        "\n",
        "    return mean_expressions\n",
        "```"
      ],
      "metadata": {
        "id": "TvQPlK5zV77n"
      }
    },
    {
      "cell_type": "code",
      "source": [
        "def demonstrate_clt(expressions, sample_size, n_samples):\n",
        "    mean_expressions = []\n",
        "\n",
        "    for i in range(n_samples):\n",
        "        sample = np.random.choice(expressions, size=sample_size)\n",
        "        mean_expressions.append(np.mean(sample))\n",
        "    return pd.Series(mean_expressions, name=expressions.name)"
      ],
      "metadata": {
        "id": "liScG4k7qVtW"
      },
      "execution_count": null,
      "outputs": []
    },
    {
      "cell_type": "code",
      "source": [
        "# for TMCC1 in B cells\n",
        "n_samples = 10000\n",
        "sample_size = 250\n",
        "example_gene = \"TMCC1\"\n",
        "expressions = b_cells_expression_data[example_gene]\n",
        "mean_expressions_B = demonstrate_clt(expressions=expressions,\n",
        "                                   sample_size=sample_size, \n",
        "                                   n_samples=n_samples)\n",
        "\n",
        "sns.histplot(mean_expressions_B, stat=\"density\").set(title='for B cells')"
      ],
      "metadata": {
        "id": "0t401tIt4DgY",
        "outputId": "3a5d89fd-1f1d-48f0-91f1-38a84b4b55be",
        "colab": {
          "base_uri": "https://localhost:8080/",
          "height": 313
        }
      },
      "execution_count": null,
      "outputs": [
        {
          "output_type": "execute_result",
          "data": {
            "text/plain": [
              "[Text(0.5, 1.0, 'for B cells')]"
            ]
          },
          "metadata": {},
          "execution_count": 12
        },
        {
          "output_type": "display_data",
          "data": {
            "text/plain": [
              "<Figure size 432x288 with 1 Axes>"
            ],
            "image/png": "[encoded data removed]"
          },
          "metadata": {
            "needs_background": "light"
          }
        }
      ]
    },
    {
      "cell_type": "code",
      "source": [
        "# for TMCC1 in NK cells\n",
        "n_samples = 10000\n",
        "sample_size = 250\n",
        "example_gene = \"TMCC1\"\n",
        "expressions = nk_cells_expression_data[example_gene]\n",
        "mean_expressions_NK = demonstrate_clt(expressions=expressions,\n",
        "                                   sample_size=sample_size, \n",
        "                                   n_samples=n_samples)\n",
        "\n",
        "sns.histplot(mean_expressions_NK, stat=\"density\").set(title='for NK cells')"
      ],
      "metadata": {
        "id": "2lqp4dpm4JF9",
        "outputId": "4ca918d4-a1ed-43f2-afe0-76eae5073ea7",
        "colab": {
          "base_uri": "https://localhost:8080/",
          "height": 313
        }
      },
      "execution_count": null,
      "outputs": [
        {
          "output_type": "execute_result",
          "data": {
            "text/plain": [
              "[Text(0.5, 1.0, 'for NK cells')]"
            ]
          },
          "metadata": {},
          "execution_count": 13
        },
        {
          "output_type": "display_data",
          "data": {
            "text/plain": [
              "<Figure size 432x288 with 1 Axes>"
            ],
            "image/png": "[encoded data removed]"
          },
          "metadata": {
            "needs_background": "light"
          }
        }
      ]
    },
    {
      "cell_type": "markdown",
      "source": [
        "А теперь посчитайте 95% доверительные интервалы для обоих распределений (примем тот факт, что средние распределены нормально для обоих клеточных типов) и скажите, отличается ли средняя экспрессия данного гена между клеточными типами?"
      ],
      "metadata": {
        "id": "dy8xJYbfa_1W"
      }
    },
    {
      "cell_type": "code",
      "source": [
        "sample_size = 250\n",
        "\n",
        "# mu, std, and se for B cells\n",
        "mu_B = np.mean(b_cells_expression_data[example_gene])\n",
        "std_B = np.std(b_cells_expression_data[example_gene])\n",
        "se_B = std_B / np.sqrt(sample_size)\n",
        "\n",
        "\n",
        "# CI for B cells\n",
        "mean_mean_B = np.mean(mean_expressions_B)\n",
        "leftb_B = mean_mean_B - 1.96 * se_B\n",
        "rightb_B = mean_mean_B + 1.96 * se_B\n",
        "\n",
        "leftb_B, rightb_B, mu_B, se_B"
      ],
      "metadata": {
        "id": "ZtEKz5jzZ65A",
        "outputId": "919cc5df-ad39-45a9-da92-80c8367b25d0",
        "colab": {
          "base_uri": "https://localhost:8080/"
        }
      },
      "execution_count": null,
      "outputs": [
        {
          "output_type": "execute_result",
          "data": {
            "text/plain": [
              "(21.967539667575466, 31.99878708426813, 26.978971829200002, 2.5589916879318033)"
            ]
          },
          "metadata": {},
          "execution_count": 18
        }
      ]
    },
    {
      "cell_type": "code",
      "source": [
        "# mu, std, and se for NK cells\n",
        "mu_NK = np.mean(nk_cells_expression_data[example_gene])\n",
        "std_NK = np.std(nk_cells_expression_data[example_gene])\n",
        "se_NK = std_NK / np.sqrt(sample_size)\n",
        "\n",
        "# CI for NK cells\n",
        "mean_mean_NK = np.mean(mean_expressions_NK)\n",
        "leftb_NK = mean_mean_NK - 1.96 * se_NK\n",
        "rightb_NK = mean_mean_NK + 1.96 * se_NK\n",
        "\n",
        "leftb_NK, rightb_NK, mu_NK, se_NK"
      ],
      "metadata": {
        "id": "KoIbKoMI4tyP",
        "outputId": "15c66b1f-6017-4632-c998-6657fe939788",
        "colab": {
          "base_uri": "https://localhost:8080/"
        }
      },
      "execution_count": null,
      "outputs": [
        {
          "output_type": "execute_result",
          "data": {
            "text/plain": [
              "(25.39683911756908, 35.502827338570356, 30.4313196004, 2.5780582196431827)"
            ]
          },
          "metadata": {},
          "execution_count": 19
        }
      ]
    },
    {
      "cell_type": "markdown",
      "source": [
        "## Задание 2\n",
        "\n",
        "**4 баллов**"
      ],
      "metadata": {
        "id": "ohXJ3B-TcwP1"
      }
    },
    {
      "cell_type": "markdown",
      "source": [
        "Вспомнили центральную предельную теорему и то, как считать доверительные интервалы в простом случае, теперь давайте воспользуемся библиотечной реализацией для того, чтобы протестировать уже все гены. "
      ],
      "metadata": {
        "id": "OZeMqL9KdCZW"
      }
    },
    {
      "cell_type": "code",
      "source": [
        "import scipy.stats as st"
      ],
      "metadata": {
        "id": "lWagSgzjabYZ"
      },
      "execution_count": null,
      "outputs": []
    },
    {
      "cell_type": "code",
      "source": [],
      "metadata": {
        "id": "_lVNb5JfecyJ"
      },
      "execution_count": null,
      "outputs": []
    },
    {
      "cell_type": "markdown",
      "source": [
        "Посчитаем доверительные интервалы для нашего демонстрационного гена в обоих клеточных типах:"
      ],
      "metadata": {
        "id": "8UF6p1vpekvX"
      }
    },
    {
      "cell_type": "code",
      "source": [
        "# B клетки\n",
        "st.t.interval(alpha=0.95, # 95% доверительный интервал\n",
        "              df=len(b_cells_expression_data[example_gene]) - 1, # число степеней свободы - 1\n",
        "              loc=np.mean(b_cells_expression_data[example_gene]), # Среднее\n",
        "              scale=st.sem(b_cells_expression_data[example_gene])) # Стандартная ошибка среднего"
      ],
      "metadata": {
        "colab": {
          "base_uri": "https://localhost:8080/"
        },
        "id": "6D37bTt5cyVm",
        "outputId": "50b9eb11-0908-4ee9-a285-88d8227ca7bb"
      },
      "execution_count": null,
      "outputs": [
        {
          "output_type": "execute_result",
          "data": {
            "text/plain": [
              "(23.420272072079296, 30.53767158632071)"
            ]
          },
          "metadata": {},
          "execution_count": 21
        }
      ]
    },
    {
      "cell_type": "code",
      "source": [
        "# NK клетки\n",
        "st.t.interval(alpha=0.95, # 95% доверительный интервал\n",
        "              df=len(nk_cells_expression_data[example_gene]) - 1, # число степеней свободы - 1\n",
        "              loc=np.mean(nk_cells_expression_data[example_gene]), # Среднее\n",
        "              scale=st.sem(nk_cells_expression_data[example_gene])) # Стандартная ошибка среднего"
      ],
      "metadata": {
        "colab": {
          "base_uri": "https://localhost:8080/"
        },
        "id": "fgUUKsMhcyfG",
        "outputId": "881a978e-de19-44fa-8978-ad6ef1aaf00d"
      },
      "execution_count": null,
      "outputs": [
        {
          "output_type": "execute_result",
          "data": {
            "text/plain": [
              "(26.84610468807562, 34.01653451272438)"
            ]
          },
          "metadata": {},
          "execution_count": 22
        }
      ]
    },
    {
      "cell_type": "markdown",
      "source": [
        "**Вывод**: 95% доверительные интервалы наших выборок пересекаются, значит средняя экспрессия гена *TMCC1* для B и NK типов клеток не отличается"
      ],
      "metadata": {
        "id": "hyFBfO0j48f3"
      }
    },
    {
      "cell_type": "code",
      "source": [],
      "metadata": {
        "id": "JaLcGOAXcynV"
      },
      "execution_count": null,
      "outputs": []
    },
    {
      "cell_type": "markdown",
      "source": [
        "Напишите функцию для проверки того, что доверительные интервалы пересекаются. На лекции мы тестировали гипотезы для равенства среднего выборки заданному числу и проверяли, попало ли оно в границы этого интервала или нет, если оно оказывалось за ними, то мы говорили, что средние отличаются. Здесь же мы имеем дело с двумя выборками, поэтому будем проверять, пересекаются ли доверительные интервалы, и, если нет, то говорить о том, что средние в выборках отличаются.\n",
        "\n",
        "```python\n",
        "def check_intervals_intersect(first_ci, second_ci):   \n",
        "\n",
        "    return are_intersect # True or False\n",
        "```"
      ],
      "metadata": {
        "id": "q60PntVDfVof"
      }
    },
    {
      "cell_type": "code",
      "source": [
        "# function for checking CI intersection \n",
        "def check_intervals_intersect(first_ci, second_ci):   \n",
        "    # transforms first_ci tuple to pd.Interval()\n",
        "    first_ci = pd.Interval(*first_ci, closed='both') \n",
        "    # transforms second_ci tuple to pd.Interval()\n",
        "    second_ci = pd.Interval(*second_ci, closed='both') \n",
        "    are_intersect = first_ci.overlaps(second_ci)\n",
        "    return are_intersect # True or False"
      ],
      "metadata": {
        "id": "iIYx9Pb9fO_q"
      },
      "execution_count": null,
      "outputs": []
    },
    {
      "cell_type": "code",
      "source": [
        "# B клетки\n",
        "first_ci = st.t.interval(alpha=0.95, # 95% доверительный интервал\n",
        "              df=len(b_cells_expression_data[example_gene]) - 1, # число степеней свободы - 1\n",
        "              loc=np.mean(b_cells_expression_data[example_gene]), # Среднее\n",
        "              scale=st.sem(b_cells_expression_data[example_gene])) # Стандартная ошибка среднего\n",
        "\n",
        "# NK клетки\n",
        "second_ci = st.t.interval(alpha=0.95, # 95% доверительный интервал\n",
        "              df=len(nk_cells_expression_data[example_gene]) - 1, # число степеней свободы - 1\n",
        "              loc=np.mean(nk_cells_expression_data[example_gene]), # Среднее\n",
        "              scale=st.sem(nk_cells_expression_data[example_gene])) # Стандартная ошибка среднего\n",
        "\n",
        "check_intervals_intersect(first_ci=first_ci, second_ci=second_ci)"
      ],
      "metadata": {
        "id": "COVl_CZ95un-",
        "outputId": "ad228ecd-9246-449b-94eb-beac130f107a",
        "colab": {
          "base_uri": "https://localhost:8080/"
        }
      },
      "execution_count": null,
      "outputs": [
        {
          "output_type": "execute_result",
          "data": {
            "text/plain": [
              "True"
            ]
          },
          "metadata": {},
          "execution_count": 24
        }
      ]
    },
    {
      "cell_type": "markdown",
      "source": [
        "Теперь для каждого гена посчитайте доверительные интервалы в обоих клеточных типах, и проверьте, пересекаются ли они? Результаты можно добавлять в список, например:\n",
        "\n",
        "```python\n",
        "ci_test_results = [True, False, ..., True]\n",
        "```"
      ],
      "metadata": {
        "id": "2cpsVdR-gYkm"
      }
    },
    {
      "cell_type": "code",
      "source": [
        "# function for calculation of all CI for cell types\n",
        "def ci_intervals(expressions):\n",
        "    all_intervals = []\n",
        "    for gene in expressions.columns:\n",
        "        if expressions[gene].dtype in (int, float):\n",
        "            gene_ci = st.t.interval(alpha=0.95, # 95% доверительный интервал\n",
        "                      df=len(expressions[gene]) - 1, # число степеней свободы - 1\n",
        "                      loc=np.mean(expressions[gene]), # Среднее\n",
        "                      scale=st.sem(expressions[gene])) # Стандартная ошибка среднего\n",
        "            all_intervals.append(gene_ci) \n",
        "    return all_intervals"
      ],
      "metadata": {
        "id": "JMOoVjZsr7WU"
      },
      "execution_count": null,
      "outputs": []
    },
    {
      "cell_type": "code",
      "source": [
        "# all CI for B cells\n",
        "expressions = b_cells_expression_data\n",
        "all_intervals_B = ci_intervals(expressions=expressions)\n",
        "all_intervals_B[:10]"
      ],
      "metadata": {
        "id": "irDSsgZv58VT",
        "outputId": "cdf68047-a8f8-426d-c948-49dbe2bebe0e",
        "colab": {
          "base_uri": "https://localhost:8080/"
        }
      },
      "execution_count": null,
      "outputs": [
        {
          "output_type": "execute_result",
          "data": {
            "text/plain": [
              "[(23.420272072079296, 30.53767158632071),\n",
              " (40.66605746899466, 43.647858079005324),\n",
              " (0.16491871145103376, 6.693154078772565),\n",
              " (4.478209446304184, 5.386014119255815),\n",
              " (5.9789902822075565, 12.141109515370443),\n",
              " (66.07500750026978, 71.03745000973024),\n",
              " (32.092790204855675, 36.94138070714433),\n",
              " (0.16519838487656902, 3.525336753774404),\n",
              " (2.6930563856523215, 5.239175550587678),\n",
              " (17.008063850743856, 19.131670780056144)]"
            ]
          },
          "metadata": {},
          "execution_count": 26
        }
      ]
    },
    {
      "cell_type": "code",
      "source": [
        "# all CI for NK cells\n",
        "expressions = nk_cells_expression_data\n",
        "all_intervals_nk = ci_intervals(expressions=expressions)\n",
        "all_intervals_nk[:10]"
      ],
      "metadata": {
        "id": "bslPXKqN6E_L",
        "outputId": "a3ac78f3-ed9f-4d68-a09b-61477cb27e9d",
        "colab": {
          "base_uri": "https://localhost:8080/"
        }
      },
      "execution_count": null,
      "outputs": [
        {
          "output_type": "execute_result",
          "data": {
            "text/plain": [
              "[(26.84610468807562, 34.01653451272438),\n",
              " (45.82365268771322, 51.43822479828677),\n",
              " (0.4300389516748502, 4.90121975138789),\n",
              " (5.591555697440395, 10.941515282239607),\n",
              " (5.564808406875493, 7.104360627223306),\n",
              " (66.00919515957982, 73.25278561642018),\n",
              " (35.51361067108365, 40.273806876916346),\n",
              " (0.6929627125519762, 5.645389577308465),\n",
              " (3.0215439419876136, 4.591565056252386),\n",
              " (24.238740580039558, 29.223494805960446)]"
            ]
          },
          "metadata": {},
          "execution_count": 27
        }
      ]
    },
    {
      "cell_type": "markdown",
      "source": [
        "Попытайтесь оформить это в виде функции, которая будет принимать на вход две таблицы с экспрессиями и выдавать для каждого гена, значимо ли отличается его средняя экспрессия между клеточными типами.\n",
        "\n",
        "```python\n",
        "def check_dge_with_ci(first_table, second_table):\n",
        "    # dge - differential gene expression\n",
        "\n",
        "    return ci_test_results\n",
        "```"
      ],
      "metadata": {
        "id": "GTeBsVNHhpr9"
      }
    },
    {
      "cell_type": "code",
      "source": [
        "def check_dge_with_ci(first_table, second_table):\n",
        "    # dge - differential gene expression\n",
        "    all_intervals_B = ci_intervals(expressions=first_table)\n",
        "    all_intervals_nk = ci_intervals(expressions=second_table)\n",
        "    \n",
        "    ci_test_results = []\n",
        "    for index in range(len(all_intervals_B)):\n",
        "        intersection = check_intervals_intersect(first_ci=all_intervals_B[index], \n",
        "                                                 second_ci=all_intervals_nk[index])\n",
        "        ci_test_results.append(intersection)     \n",
        "    return ci_test_results"
      ],
      "metadata": {
        "id": "nxgCa0V-r8Xw"
      },
      "execution_count": null,
      "outputs": []
    },
    {
      "cell_type": "code",
      "source": [
        "first_table = b_cells_expression_data\n",
        "second_table = nk_cells_expression_data\n",
        "ci_test_results = check_dge_with_ci(first_table, second_table)\n",
        "ci_test_results[:10]"
      ],
      "metadata": {
        "id": "ffmQUVo_6Sn2",
        "outputId": "55863ce1-4aa5-4a14-c881-a7b8d5fb7bad",
        "colab": {
          "base_uri": "https://localhost:8080/"
        }
      },
      "execution_count": null,
      "outputs": [
        {
          "output_type": "execute_result",
          "data": {
            "text/plain": [
              "[True, False, True, False, True, True, True, True, True, False]"
            ]
          },
          "metadata": {},
          "execution_count": 29
        }
      ]
    },
    {
      "cell_type": "markdown",
      "source": [
        "## Задание 3\n",
        "\n",
        "**4 баллов**"
      ],
      "metadata": {
        "id": "BTMrzw2Cjk8x"
      }
    },
    {
      "cell_type": "markdown",
      "source": [
        "Давайте теперь применим для той же задачи `z-критерий`. Будем считать, что в данном случае $\\alpha$ = 0.05, и если полученное `p-value` будет меньше, то экспрессия генов значимо отличается."
      ],
      "metadata": {
        "id": "Hg6BH7N-kilU"
      }
    },
    {
      "cell_type": "code",
      "source": [
        "from statsmodels.stats.weightstats import ztest"
      ],
      "metadata": {
        "id": "pfKgFrLCfPN5"
      },
      "execution_count": null,
      "outputs": []
    },
    {
      "cell_type": "code",
      "source": [
        "# Наш излюбленный ген\n",
        "ztest(\n",
        "    b_cells_expression_data[example_gene],\n",
        "    nk_cells_expression_data[example_gene]\n",
        ")"
      ],
      "metadata": {
        "colab": {
          "base_uri": "https://localhost:8080/"
        },
        "id": "8ws5c8kQcyxA",
        "outputId": "1ded25f5-353b-4872-c4a0-bcc0b4a153a2"
      },
      "execution_count": null,
      "outputs": [
        {
          "output_type": "execute_result",
          "data": {
            "text/plain": [
              "(-1.3427434041885127, 0.17935507499860204)"
            ]
          },
          "metadata": {},
          "execution_count": 47
        }
      ]
    },
    {
      "cell_type": "markdown",
      "source": [
        "Попытайтесь оформить это в виде функции, которая будет принимать на вход две таблицы с экспрессиями и выдавать для каждого гена, значимо ли отличается его средняя экспрессия между клеточными типами.\n",
        "\n",
        "```python\n",
        "def check_dge_with_ztest(first_table, second_table):\n",
        "    # dge - differential gene expression\n",
        "\n",
        "    return z_test_results\n",
        "```"
      ],
      "metadata": {
        "id": "jouFFsZGlWr8"
      }
    },
    {
      "cell_type": "code",
      "source": [
        "def check_dge_with_ztest(first_table, second_table):\n",
        "    # dge - differential gene expression\n",
        "    z_test_results = []\n",
        "    for gene in first_table.columns:\n",
        "        if first_table[gene].dtype in (int, float):\n",
        "            gene_z_value = ztest(first_table[gene], \n",
        "                                 second_table[gene])\n",
        "            z_test_results.append((gene_z_value[1] > 0.05, \n",
        "                                   round(gene_z_value[1], ndigits=4)))    \n",
        "    return z_test_results"
      ],
      "metadata": {
        "id": "aXc720tmhNt7"
      },
      "execution_count": null,
      "outputs": []
    },
    {
      "cell_type": "code",
      "source": [
        "first_table = b_cells_expression_data\n",
        "second_table = nk_cells_expression_data\n",
        "z_test_results = check_dge_with_ztest(first_table=first_table, second_table=second_table)\n",
        "z_test_results[:10]"
      ],
      "metadata": {
        "id": "5vBZSFCGAY3P",
        "outputId": "ebf9bfce-e787-4f35-b9f8-b2147b835c70",
        "colab": {
          "base_uri": "https://localhost:8080/"
        }
      },
      "execution_count": null,
      "outputs": [
        {
          "output_type": "execute_result",
          "data": {
            "text/plain": [
              "[(True, 0.1794),\n",
              " (False, 0.0001),\n",
              " (True, 0.7046),\n",
              " (False, 0.0158),\n",
              " (True, 0.0918),\n",
              " (True, 0.6305),\n",
              " (True, 0.0509),\n",
              " (True, 0.3847),\n",
              " (True, 0.834),\n",
              " (False, 0.0)]"
            ]
          },
          "metadata": {},
          "execution_count": 34
        }
      ]
    },
    {
      "cell_type": "code",
      "source": [
        "def mean_exp(first_table, second_table):\n",
        "    mean_diff = []\n",
        "    for gene in first_table.columns:\n",
        "        if first_table[gene].dtype in (int, float):\n",
        "            gene_mean_exp = first_table[gene].mean() - second_table[gene].mean()\n",
        "            mean_diff.append(round(gene_mean_exp, ndigits=2))\n",
        "    return mean_diff"
      ],
      "metadata": {
        "id": "btvOBtNoAdUR"
      },
      "execution_count": null,
      "outputs": []
    },
    {
      "cell_type": "code",
      "source": [
        "first_table = b_cells_expression_data\n",
        "second_table = nk_cells_expression_data\n",
        "mean_diff = mean_exp(first_table=first_table, \n",
        "                     second_table=second_table)\n",
        "mean_diff[:10]"
      ],
      "metadata": {
        "id": "7MY5ishXAgtE",
        "outputId": "72871cf9-4f76-48f8-94b0-070bd03fad70",
        "colab": {
          "base_uri": "https://localhost:8080/"
        }
      },
      "execution_count": null,
      "outputs": [
        {
          "output_type": "execute_result",
          "data": {
            "text/plain": [
              "[-3.45, -6.47, 0.76, -3.33, 2.73, -1.07, -3.38, -1.32, 0.16, -8.66]"
            ]
          },
          "metadata": {},
          "execution_count": 36
        }
      ]
    },
    {
      "cell_type": "markdown",
      "source": [
        "## Задание 4\n",
        "\n",
        "**10 баллов**"
      ],
      "metadata": {
        "id": "TZpNj9EMlenZ"
      }
    },
    {
      "cell_type": "markdown",
      "source": [
        "Теперь пришла пора оформить все ваши старания в виде программы. Напишите программу, которая принимает на вход следующие аргуметры:\n",
        "\n",
        "1. `first_cell_type_expressions_path` &ndash; путь до таблицы с экспрессиями генов для одного клеточного типа;\n",
        "2. `second_cell_type_expressions_path` &ndash; путь до таблицы с экспрессиями генов для второго клеточного типа;\n",
        "3. `save_results_table` &ndash; название таблицы с результатами.\n",
        "\n",
        "Считывать аргументы можно любым удобным способом (например, `input`, `argparse`).\n",
        "\n",
        "Как читать данные при помощи пандаса мы уже знаем, осталось понять, как записывать результаты. Допустим, вы записывали результаты ваших тестов в списки, тогда создать пандасовский датафрейм можно следующим образом:"
      ],
      "metadata": {
        "id": "sqCB9SY9ljrn"
      }
    },
    {
      "cell_type": "code",
      "source": [
        "ci_test_results = [True, False, True]\n",
        "z_test_results = [True, True, True]\n",
        "# Опционально можно также сохранять p-value для z-критерия\n",
        "z_test_p_values = [0.004, 0.01, 0.0001]\n",
        "# Также сохраните разницу в средних экспрессиях между 1 и 2 таблицами для каждого гена,\n",
        "# чтобы было понять, уменьшается или увеличивается экспрессия гена\n",
        "mean_diff = [-10, 10, 0.5]\n",
        "\n",
        "# Созданим словарь {'название колонки': список_значений}\n",
        "results = {\n",
        "    \"ci_test_results\": ci_test_results,\n",
        "    \"z_test_results\": z_test_results,\n",
        "    \"z_test_p_values\": z_test_p_values,\n",
        "    \"mean_diff\": mean_diff\n",
        "}\n",
        "\n",
        "# Из словаря делаем датафрейм\n",
        "results = pd.DataFrame(results)\n",
        "results.head()"
      ],
      "metadata": {
        "colab": {
          "base_uri": "https://localhost:8080/",
          "height": 153
        },
        "id": "UK3kTYEBljMl",
        "outputId": "164a2f08-4909-4fa2-fee9-e77b2c3bf47d"
      },
      "execution_count": null,
      "outputs": [
        {
          "output_type": "execute_result",
          "data": {
            "text/plain": [
              "   ci_test_results  z_test_results  z_test_p_values  mean_diff\n",
              "0             True            True           0.0040      -10.0\n",
              "1            False            True           0.0100       10.0\n",
              "2             True            True           0.0001        0.5"
            ],
            "text/html": [
              "\n",
              "  <div id=\"df-f31aa3a4-d86c-405c-82d8-2fcdb1fb2c23\">\n",
              "    <div class=\"colab-df-container\">\n",
              "      <div>\n",
              "<style scoped>\n",
              "    .dataframe tbody tr th:only-of-type {\n",
              "        vertical-align: middle;\n",
              "    }\n",
              "\n",
              "    .dataframe tbody tr th {\n",
              "        vertical-align: top;\n",
              "    }\n",
              "\n",
              "    .dataframe thead th {\n",
              "        text-align: right;\n",
              "    }\n",
              "</style>\n",
              "<table border=\"1\" class=\"dataframe\">\n",
              "  <thead>\n",
              "    <tr style=\"text-align: right;\">\n",
              "      <th></th>\n",
              "      <th>ci_test_results</th>\n",
              "      <th>z_test_results</th>\n",
              "      <th>z_test_p_values</th>\n",
              "      <th>mean_diff</th>\n",
              "    </tr>\n",
              "  </thead>\n",
              "  <tbody>\n",
              "    <tr>\n",
              "      <th>0</th>\n",
              "      <td>True</td>\n",
              "      <td>True</td>\n",
              "      <td>0.0040</td>\n",
              "      <td>-10.0</td>\n",
              "    </tr>\n",
              "    <tr>\n",
              "      <th>1</th>\n",
              "      <td>False</td>\n",
              "      <td>True</td>\n",
              "      <td>0.0100</td>\n",
              "      <td>10.0</td>\n",
              "    </tr>\n",
              "    <tr>\n",
              "      <th>2</th>\n",
              "      <td>True</td>\n",
              "      <td>True</td>\n",
              "      <td>0.0001</td>\n",
              "      <td>0.5</td>\n",
              "    </tr>\n",
              "  </tbody>\n",
              "</table>\n",
              "</div>\n",
              "      <button class=\"colab-df-convert\" onclick=\"convertToInteractive('df-f31aa3a4-d86c-405c-82d8-2fcdb1fb2c23')\"\n",
              "              title=\"Convert this dataframe to an interactive table.\"\n",
              "              style=\"display:none;\">\n",
              "        \n",
              "  <svg xmlns=\"http://www.w3.org/2000/svg\" height=\"24px\"viewBox=\"0 0 24 24\"\n",
              "       width=\"24px\">\n",
              "    <path d=\"M0 0h24v24H0V0z\" fill=\"none\"/>\n",
              "    <path d=\"M18.56 5.44l.94 2.06.94-2.06 2.06-.94-2.06-.94-.94-2.06-.94 2.06-2.06.94zm-11 1L8.5 8.5l.94-2.06 2.06-.94-2.06-.94L8.5 2.5l-.94 2.06-2.06.94zm10 10l.94 2.06.94-2.06 2.06-.94-2.06-.94-.94-2.06-.94 2.06-2.06.94z\"/><path d=\"M17.41 7.96l-1.37-1.37c-.4-.4-.92-.59-1.43-.59-.52 0-1.04.2-1.43.59L10.3 9.45l-7.72 7.72c-.78.78-.78 2.05 0 2.83L4 21.41c.39.39.9.59 1.41.59.51 0 1.02-.2 1.41-.59l7.78-7.78 2.81-2.81c.8-.78.8-2.07 0-2.86zM5.41 20L4 18.59l7.72-7.72 1.47 1.35L5.41 20z\"/>\n",
              "  </svg>\n",
              "      </button>\n",
              "      \n",
              "  <style>\n",
              "    .colab-df-container {\n",
              "      display:flex;\n",
              "      flex-wrap:wrap;\n",
              "      gap: 12px;\n",
              "    }\n",
              "\n",
              "    .colab-df-convert {\n",
              "      background-color: #E8F0FE;\n",
              "      border: none;\n",
              "      border-radius: 50%;\n",
              "      cursor: pointer;\n",
              "      display: none;\n",
              "      fill: #1967D2;\n",
              "      height: 32px;\n",
              "      padding: 0 0 0 0;\n",
              "      width: 32px;\n",
              "    }\n",
              "\n",
              "    .colab-df-convert:hover {\n",
              "      background-color: #E2EBFA;\n",
              "      box-shadow: 0px 1px 2px rgba(60, 64, 67, 0.3), 0px 1px 3px 1px rgba(60, 64, 67, 0.15);\n",
              "      fill: #174EA6;\n",
              "    }\n",
              "\n",
              "    [theme=dark] .colab-df-convert {\n",
              "      background-color: #3B4455;\n",
              "      fill: #D2E3FC;\n",
              "    }\n",
              "\n",
              "    [theme=dark] .colab-df-convert:hover {\n",
              "      background-color: #434B5C;\n",
              "      box-shadow: 0px 1px 3px 1px rgba(0, 0, 0, 0.15);\n",
              "      filter: drop-shadow(0px 1px 2px rgba(0, 0, 0, 0.3));\n",
              "      fill: #FFFFFF;\n",
              "    }\n",
              "  </style>\n",
              "\n",
              "      <script>\n",
              "        const buttonEl =\n",
              "          document.querySelector('#df-f31aa3a4-d86c-405c-82d8-2fcdb1fb2c23 button.colab-df-convert');\n",
              "        buttonEl.style.display =\n",
              "          google.colab.kernel.accessAllowed ? 'block' : 'none';\n",
              "\n",
              "        async function convertToInteractive(key) {\n",
              "          const element = document.querySelector('#df-f31aa3a4-d86c-405c-82d8-2fcdb1fb2c23');\n",
              "          const dataTable =\n",
              "            await google.colab.kernel.invokeFunction('convertToInteractive',\n",
              "                                                     [key], {});\n",
              "          if (!dataTable) return;\n",
              "\n",
              "          const docLinkHtml = 'Like what you see? Visit the ' +\n",
              "            '<a target=\"_blank\" href=https://colab.research.google.com/notebooks/data_table.ipynb>data table notebook</a>'\n",
              "            + ' to learn more about interactive tables.';\n",
              "          element.innerHTML = '';\n",
              "          dataTable['output_type'] = 'display_data';\n",
              "          await google.colab.output.renderOutput(dataTable, element);\n",
              "          const docLink = document.createElement('div');\n",
              "          docLink.innerHTML = docLinkHtml;\n",
              "          element.appendChild(docLink);\n",
              "        }\n",
              "      </script>\n",
              "    </div>\n",
              "  </div>\n",
              "  "
            ]
          },
          "metadata": {},
          "execution_count": 48
        }
      ]
    },
    {
      "cell_type": "code",
      "source": [
        "# Сохраним таблицу в .csv файл\n",
        "results.to_csv(\"path_to_your_awesome_results.csv\")"
      ],
      "metadata": {
        "id": "WvjHjmLcoBQO"
      },
      "execution_count": null,
      "outputs": []
    },
    {
      "cell_type": "code",
      "source": [],
      "metadata": {
        "id": "MT2i-0StqcM2"
      },
      "execution_count": null,
      "outputs": []
    },
    {
      "cell_type": "code",
      "source": [
        "b_cells_expression_data.to_csv(\"b_cells_expression_data.csv\")\n",
        "nk_cells_expression_data.to_csv(\"nk_cells_expression_data.csv\")"
      ],
      "metadata": {
        "id": "B8n8yDcRAr_t"
      },
      "execution_count": null,
      "outputs": []
    },
    {
      "cell_type": "code",
      "source": [
        "def check_intervals_intersect(first_ci, second_ci):   \n",
        "    first_ci = pd.Interval(*first_ci, closed='both') # transforms first_ci tuple to pd.Interval()\n",
        "    second_ci = pd.Interval(*second_ci, closed='both') # transforms second_ci tuple to pd.Interval()\n",
        "    are_intersect = first_ci.overlaps(second_ci)\n",
        "    return are_intersect # True or False\n",
        "\n",
        "\n",
        "def ci_intervals(expressions):\n",
        "    all_intervals = []\n",
        "    for gene in expressions.columns:\n",
        "        if expressions[gene].dtype in (int, float):\n",
        "            gene_ci = st.t.interval(alpha=0.95, # 95% доверительный интервал\n",
        "                      df=len(expressions[gene]) - 1, # число степеней свободы - 1\n",
        "                      loc=np.mean(expressions[gene]), # Среднее\n",
        "                      scale=st.sem(expressions[gene])) # Стандартная ошибка среднего\n",
        "            all_intervals.append(gene_ci) \n",
        "    return all_intervals\n",
        "\n",
        "\n",
        "def check_dge_with_ci(first_table, second_table):\n",
        "    # dge - differential gene expression\n",
        "    all_intervals_first_expression_data = ci_intervals(expressions=first_expression_data)\n",
        "    all_intervals_second_expression_data = ci_intervals(expressions=second_expression_data)\n",
        "    \n",
        "    ci_test_results = []\n",
        "    for index in range(len(all_intervals_first_expression_data)):\n",
        "        intersection = check_intervals_intersect(first_ci=all_intervals_first_expression_data[index], \n",
        "                                                 second_ci=all_intervals_second_expression_data[index])\n",
        "        ci_test_results.append(intersection)     \n",
        "    return ci_test_results\n",
        "\n",
        "\n",
        "def check_dge_with_ztest(first_table, second_table):\n",
        "    # dge - differential gene expression\n",
        "    z_test_results = []\n",
        "    z_test_p_values = []\n",
        "    for gene in first_table.columns:\n",
        "        if first_table[gene].dtype in (int, float):\n",
        "            gene_z_value = ztest(first_table[gene], \n",
        "                                 second_table[gene])\n",
        "            z_test_results.append((gene_z_value[1] > 0.05))\n",
        "            z_test_p_values.append(round(gene_z_value[1], ndigits=4))\n",
        "    return z_test_results, z_test_p_values\n",
        "\n",
        "def mean_exp(first_table, second_table):\n",
        "    mean_diff = []\n",
        "    for gene in first_table.columns:\n",
        "        if first_table[gene].dtype in (int, float):\n",
        "            gene_mean_exp = first_table[gene].mean() - second_table[gene].mean()\n",
        "            mean_diff.append(round(gene_mean_exp, ndigits=2))\n",
        "    return mean_diff"
      ],
      "metadata": {
        "id": "JJlnA-BHAvgK"
      },
      "execution_count": null,
      "outputs": []
    },
    {
      "cell_type": "code",
      "source": [
        "# /home/IB_Stats/b_cells_expression_data.csv\n",
        "# /home/IB_Stats/nk_cells_expression_data.csv\n",
        "first_cell_type_expressions_path = input(\"Type path to .csv file with first cell type expression: \")\n",
        "second_cell_type_expressions_path = input(\"Type path to .csv file with second cell type expression data: \")\n",
        "save_results_table = input(\"Type path for .csv file with results: \")\n",
        "\n",
        "first_expression_data = pd.read_csv(first_cell_type_expressions_path, index_col=0)\n",
        "second_expression_data = pd.read_csv(second_cell_type_expressions_path, index_col=0)\n",
        "\n",
        "ci_test_results = check_dge_with_ci(first_table=first_expression_data, \n",
        "                                    second_table=second_expression_data)\n",
        "\n",
        "z_test_results,  z_test_p_values = check_dge_with_ztest(first_table=first_expression_data, \n",
        "                                      second_table=second_expression_data)\n",
        "\n",
        "mean_diff = mean_exp(first_table=first_expression_data, second_table=second_expression_data)\n",
        "\n",
        "genes = first_expression_data.columns[1:len(first_expression_data.columns)]\n",
        "\n",
        "results = {\n",
        "    \"gene\": genes,\n",
        "    \"ci_test_results\": ci_test_results,\n",
        "    \"z_test_results\": z_test_results,\n",
        "    \"z_test_p_values\": z_test_p_values,\n",
        "    \"mean_diff\": mean_diff\n",
        "}\n",
        "\n",
        "results = pd.DataFrame(results)\n",
        "\n",
        "results.to_csv(save_results_table)"
      ],
      "metadata": {
        "id": "6lW7zM2bAzqp"
      },
      "execution_count": null,
      "outputs": []
    },
    {
      "cell_type": "markdown",
      "source": [
        "## Задание 5\n",
        "\n",
        "**0.5 баллов (доп.)**\n",
        "\n",
        "В онлайне сложно знакомиться, а особенно сейчас. Созвонитесь с кем-то из других студентов и прикрипите сюда скрин вашего созвона. Можно коротко описать, о чем вы говорили)"
      ],
      "metadata": {
        "id": "AnjRiJBtqbCu"
      }
    },
    {
      "cell_type": "code",
      "source": [],
      "metadata": {
        "id": "5ZF0gOD-rSX_"
      },
      "execution_count": null,
      "outputs": []
    }
  ]
}